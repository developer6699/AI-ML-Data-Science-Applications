{
 "cells": [
  {
   "cell_type": "code",
   "execution_count": 1,
   "metadata": {
    "colab": {
     "base_uri": "https://localhost:8080/",
     "height": 33
    },
    "colab_type": "code",
    "executionInfo": {
     "elapsed": 938,
     "status": "ok",
     "timestamp": 1593030905477,
     "user": {
      "displayName": "Venkata Athreya",
      "photoUrl": "https://lh3.googleusercontent.com/a-/AOh14GjIHUb7ngM40m6nK2G0uw1nktjQutk2ZX-RsJewWw=s64",
      "userId": "05981899887080297443"
     },
     "user_tz": 300
    },
    "id": "l9X5rqqa-OUp",
    "outputId": "5e1fd0c8-b333-44a6-abaf-cd29f9497743"
   },
   "outputs": [
    {
     "name": "stdout",
     "output_type": "stream",
     "text": [
      "1.15.2-dlenv_tfe\n"
     ]
    }
   ],
   "source": [
    "import tensorflow\n",
    "print(tensorflow.__version__)"
   ]
  },
  {
   "cell_type": "markdown",
   "metadata": {
    "colab_type": "text",
    "id": "6axSBdOt8Qf1"
   },
   "source": [
    "### CNN for Image Recognition with MNIST Dataset"
   ]
  },
  {
   "cell_type": "code",
   "execution_count": 2,
   "metadata": {
    "colab": {},
    "colab_type": "code",
    "executionInfo": {
     "elapsed": 621,
     "status": "ok",
     "timestamp": 1593030909102,
     "user": {
      "displayName": "Venkata Athreya",
      "photoUrl": "https://lh3.googleusercontent.com/a-/AOh14GjIHUb7ngM40m6nK2G0uw1nktjQutk2ZX-RsJewWw=s64",
      "userId": "05981899887080297443"
     },
     "user_tz": 300
    },
    "id": "COZvYpvu8Qf_"
   },
   "outputs": [],
   "source": [
    "# Import Python Libraries: NumPy and Pandas\n",
    "import pandas as pd\n",
    "import numpy as np\n",
    "\n",
    "import matplotlib.pyplot as plt\n",
    "%matplotlib inline"
   ]
  },
  {
   "cell_type": "code",
   "execution_count": 3,
   "metadata": {},
   "outputs": [],
   "source": [
    "import tensorflow as tf"
   ]
  },
  {
   "cell_type": "code",
   "execution_count": 4,
   "metadata": {},
   "outputs": [],
   "source": [
    "from tensorflow.examples.tutorials.mnist import input_data"
   ]
  },
  {
   "cell_type": "code",
   "execution_count": 5,
   "metadata": {},
   "outputs": [
    {
     "name": "stdout",
     "output_type": "stream",
     "text": [
      "WARNING:tensorflow:From <ipython-input-5-a839aeb82f4b>:1: read_data_sets (from tensorflow.contrib.learn.python.learn.datasets.mnist) is deprecated and will be removed in a future version.\n",
      "Instructions for updating:\n",
      "Please use alternatives such as official/mnist/dataset.py from tensorflow/models.\n",
      "WARNING:tensorflow:From /opt/conda/lib/python3.7/site-packages/tensorflow_core/contrib/learn/python/learn/datasets/mnist.py:260: maybe_download (from tensorflow.contrib.learn.python.learn.datasets.base) is deprecated and will be removed in a future version.\n",
      "Instructions for updating:\n",
      "Please write your own downloading logic.\n",
      "WARNING:tensorflow:From /opt/conda/lib/python3.7/site-packages/tensorflow_core/contrib/learn/python/learn/datasets/mnist.py:262: extract_images (from tensorflow.contrib.learn.python.learn.datasets.mnist) is deprecated and will be removed in a future version.\n",
      "Instructions for updating:\n",
      "Please use tf.data to implement this functionality.\n",
      "Extracting MNIST_data/train-images-idx3-ubyte.gz\n",
      "WARNING:tensorflow:From /opt/conda/lib/python3.7/site-packages/tensorflow_core/contrib/learn/python/learn/datasets/mnist.py:267: extract_labels (from tensorflow.contrib.learn.python.learn.datasets.mnist) is deprecated and will be removed in a future version.\n",
      "Instructions for updating:\n",
      "Please use tf.data to implement this functionality.\n",
      "Extracting MNIST_data/train-labels-idx1-ubyte.gz\n",
      "WARNING:tensorflow:From /opt/conda/lib/python3.7/site-packages/tensorflow_core/contrib/learn/python/learn/datasets/mnist.py:110: dense_to_one_hot (from tensorflow.contrib.learn.python.learn.datasets.mnist) is deprecated and will be removed in a future version.\n",
      "Instructions for updating:\n",
      "Please use tf.one_hot on tensors.\n",
      "Extracting MNIST_data/t10k-images-idx3-ubyte.gz\n",
      "Extracting MNIST_data/t10k-labels-idx1-ubyte.gz\n",
      "WARNING:tensorflow:From /opt/conda/lib/python3.7/site-packages/tensorflow_core/contrib/learn/python/learn/datasets/mnist.py:290: DataSet.__init__ (from tensorflow.contrib.learn.python.learn.datasets.mnist) is deprecated and will be removed in a future version.\n",
      "Instructions for updating:\n",
      "Please use alternatives such as official/mnist/dataset.py from tensorflow/models.\n"
     ]
    }
   ],
   "source": [
    "mnist = input_data.read_data_sets(\"MNIST_data/\", one_hot=True)"
   ]
  },
  {
   "cell_type": "code",
   "execution_count": 6,
   "metadata": {
    "colab": {},
    "colab_type": "code",
    "executionInfo": {
     "elapsed": 822,
     "status": "ok",
     "timestamp": 1593030911632,
     "user": {
      "displayName": "Venkata Athreya",
      "photoUrl": "https://lh3.googleusercontent.com/a-/AOh14GjIHUb7ngM40m6nK2G0uw1nktjQutk2ZX-RsJewWw=s64",
      "userId": "05981899887080297443"
     },
     "user_tz": 300
    },
    "id": "6vR3zp_Q8Qga"
   },
   "outputs": [
    {
     "data": {
      "text/plain": [
       "tensorflow.contrib.learn.python.learn.datasets.base.Datasets"
      ]
     },
     "execution_count": 6,
     "metadata": {},
     "output_type": "execute_result"
    }
   ],
   "source": [
    "type(mnist)"
   ]
  },
  {
   "cell_type": "code",
   "execution_count": 7,
   "metadata": {
    "colab": {},
    "colab_type": "code",
    "executionInfo": {
     "elapsed": 858,
     "status": "ok",
     "timestamp": 1593030913445,
     "user": {
      "displayName": "Venkata Athreya",
      "photoUrl": "https://lh3.googleusercontent.com/a-/AOh14GjIHUb7ngM40m6nK2G0uw1nktjQutk2ZX-RsJewWw=s64",
      "userId": "05981899887080297443"
     },
     "user_tz": 300
    },
    "id": "3wN_-aNJ8Qg_"
   },
   "outputs": [
    {
     "data": {
      "text/plain": [
       "55000"
      ]
     },
     "execution_count": 7,
     "metadata": {},
     "output_type": "execute_result"
    }
   ],
   "source": [
    "mnist.train.num_examples"
   ]
  },
  {
   "cell_type": "code",
   "execution_count": 8,
   "metadata": {
    "colab": {},
    "colab_type": "code",
    "executionInfo": {
     "elapsed": 566,
     "status": "ok",
     "timestamp": 1593034528847,
     "user": {
      "displayName": "Venkata Athreya",
      "photoUrl": "https://lh3.googleusercontent.com/a-/AOh14GjIHUb7ngM40m6nK2G0uw1nktjQutk2ZX-RsJewWw=s64",
      "userId": "05981899887080297443"
     },
     "user_tz": 300
    },
    "id": "XHfyo5KFFQKj"
   },
   "outputs": [
    {
     "data": {
      "text/plain": [
       "10000"
      ]
     },
     "execution_count": 8,
     "metadata": {},
     "output_type": "execute_result"
    }
   ],
   "source": [
    "mnist.test.num_examples"
   ]
  },
  {
   "cell_type": "markdown",
   "metadata": {
    "colab_type": "text",
    "id": "uvxTN5Cq8Qhm"
   },
   "source": [
    "### Preparation for Building CNN Model: Define Supporting Functions"
   ]
  },
  {
   "cell_type": "markdown",
   "metadata": {
    "colab_type": "text",
    "id": "uvxTN5Cq8Qhm"
   },
   "source": [
    "### Initialize Weights in filter"
   ]
  },
  {
   "cell_type": "code",
   "execution_count": 9,
   "metadata": {
    "colab": {
     "base_uri": "https://localhost:8080/"
    },
    "colab_type": "code",
    "executionInfo": {
     "elapsed": 1746,
     "status": "ok",
     "timestamp": 1593034535479,
     "user": {
      "displayName": "Venkata Athreya",
      "photoUrl": "https://lh3.googleusercontent.com/a-/AOh14GjIHUb7ngM40m6nK2G0uw1nktjQutk2ZX-RsJewWw=s64",
      "userId": "05981899887080297443"
     },
     "user_tz": 300
    },
    "id": "u1jXkI478QiF",
    "outputId": "4c92a310-1f67-4aef-ca78-e7f15446ed9a",
    "scrolled": true
   },
   "outputs": [],
   "source": [
    "# This function returns a tf variable used to store weights in a filter\n",
    "# This variable is initialized with values that can be used to initialize weights\n",
    "# The values are random numbers\n",
    "\n",
    "def initialize_weights(filter_shape):\n",
    "    init_random_dist = tf.truncated_normal(filter_shape, stddev=0.1)\n",
    "    return(tf.Variable(init_random_dist))"
   ]
  },
  {
   "cell_type": "markdown",
   "metadata": {
    "colab_type": "text",
    "id": "uvxTN5Cq8Qhm"
   },
   "source": [
    "### Initialize bias"
   ]
  },
  {
   "cell_type": "code",
   "execution_count": 10,
   "metadata": {},
   "outputs": [],
   "source": [
    "# This function returns a tf variable used to store weights in a bias\n",
    "# This variable is initialized with values that can be used to initialize bias\n",
    "# The values is initialized to 0.1\n",
    "\n",
    "def initialize_bias(bias_shape):\n",
    "    initial_bias_vals = tf.constant(0.1, shape=bias_shape)\n",
    "    return(tf.Variable(initial_bias_vals))"
   ]
  },
  {
   "cell_type": "markdown",
   "metadata": {
    "colab_type": "text",
    "id": "uvxTN5Cq8Qhm"
   },
   "source": [
    "### Set Up a Convolutional Layer and perform convolution computation: Dot Product(x*W)"
   ]
  },
  {
   "cell_type": "code",
   "execution_count": 11,
   "metadata": {},
   "outputs": [],
   "source": [
    "# Define a function to set up a convolution layer (conv2d)\n",
    "# Parameters:\n",
    "# -inputs: [batch, H, W, Channels]\n",
    "# -filter_shape:\n",
    "# [filter H, filter w, in_channels (in_depth = in_num_filter), out_channels (out_depth = out_num_filters)]\n",
    "# for example: [5, 5, 1, 32]\n",
    "# Return: Outputs of the layer: The dot product: inputs * weight: x * W\n",
    "\n",
    "def create_convolution_layer_and_compute_dot_product(inputs, filter_shape):\n",
    "    \n",
    "    # initialize the weights in the filter\n",
    "    filter_initialized_with_weights = initialize_weights(filter_shape)\n",
    "    \n",
    "    # Create a convolution layer\n",
    "    conv_layer_outputs = tf.nn.conv2d(inputs, filter_initialized_with_weights, strides=[1, 1, 1, 1], padding='SAME')\n",
    "    \n",
    "    # Return the convolution layer outputs\n",
    "    return (conv_layer_outputs)    \n",
    "    "
   ]
  },
  {
   "cell_type": "markdown",
   "metadata": {
    "colab_type": "text",
    "id": "uvxTN5Cq8Qhm"
   },
   "source": [
    "### Set Up a ReLU Layer and perform convolution computation: Dot Product + Bias(x.W+b)"
   ]
  },
  {
   "cell_type": "code",
   "execution_count": 12,
   "metadata": {},
   "outputs": [],
   "source": [
    "# Define a function\n",
    "# First, to set up a ReLU layer: an activation function layer\n",
    "# then, perform the computation: dot product + bias: (x*W)+b\n",
    "\n",
    "# ReLU: Rectified Linear Unit - a popular activation function used in CNN\n",
    "# In this layer, the bias has been initialized\n",
    "# Paramters: \n",
    "# inputs - outputs from the preceding convolution layer: Dot product inputs * weights\n",
    "# filter_shape:\n",
    "# [filter H, filter W, in_channels(in_depth = in_num_filters), out_channels(out_depth = out_num_filters)]\n",
    "# for example; [5, 5, 1, 32]\n",
    "\n",
    "# Return: Outputs of the layer: dot product + b: (x * W) + b\n",
    "\n",
    "def create_relu_and_compute_dotproduct_plus_b(inputs, filter_shape):\n",
    "    # Initialize bias for each input channel\n",
    "    b = initialize_bias([filter_shape[3]])\n",
    "    \n",
    "    # Perform the computation first by adding: inputs (x*W)+b\n",
    "    # Create a ReLU layer associated with the preceding convolution layer\n",
    "    relu_layer_outputs = tf.nn.relu(inputs + b)\n",
    "    \n",
    "    # Return the putputs of the ReLU layer\n",
    "    return(relu_layer_outputs)"
   ]
  },
  {
   "cell_type": "markdown",
   "metadata": {
    "colab_type": "text",
    "id": "uvxTN5Cq8Qhm"
   },
   "source": [
    "### Set Up a pooling layer and reduce spatial size"
   ]
  },
  {
   "cell_type": "code",
   "execution_count": 13,
   "metadata": {},
   "outputs": [],
   "source": [
    "# Define a function\n",
    "# First, to set up a pooling layer\n",
    "# then, to reduce the spatial size of the inputs data\n",
    "\n",
    "# Pooling method: Max pooling\n",
    "# Kernal size: 2x2\n",
    "# stride : 2\n",
    "\n",
    "# Parameters:\n",
    "# inputs: outputs of teh preceding layer\n",
    "# return: outputs of the layer\n",
    "\n",
    "def create_maxpool2by2_and_reduce_spatial_size(inputs):\n",
    "    # create a pooling layer\n",
    "    pooling_layer_outputs = tf.nn.max_pool(inputs, ksize=[1, 2, 2, 1], strides=[1, 2, 2, 1], padding='SAME')\n",
    "    \n",
    "    # Return the pooling layer\n",
    "    return(pooling_layer_outputs)\n"
   ]
  },
  {
   "cell_type": "markdown",
   "metadata": {
    "colab_type": "text",
    "id": "uvxTN5Cq8Qhm"
   },
   "source": [
    "### Set Up a Fully connected Layer and perform computation: (inputs * weights) + bias"
   ]
  },
  {
   "cell_type": "code",
   "execution_count": 14,
   "metadata": {},
   "outputs": [],
   "source": [
    "# Define a function to set up a fully connected layer\n",
    "# Also perform computation: (Dot product (inputs*weights))+bias\n",
    "# Return the results\n",
    "# Parameters:\n",
    "# inputs: outputs of the preceding layer\n",
    "# size: the size of the outputs, i.e; number of out_channels\n",
    "\n",
    "def create_fully_connected_layer_and_compute_dotproduct_plus_bias(inputs, output_size):\n",
    "    # Get the number of input channels from the input\n",
    "    # Inputs: the outputs from the preceding layer or previous operation like reshaping\n",
    "    input_size = int(inputs.get_shape()[1])\n",
    "    \n",
    "    # initialize the weights of the filter of the FC layer\n",
    "    # Filter shape [in_channels, out_channels]\n",
    "    # Each weight for one filter cell\n",
    "    W = initialize_weights([input_size, output_size])\n",
    "    \n",
    "    # Initialize_weights([input_size, output_size])\n",
    "    b = initialize_bias ([output_size])\n",
    "    \n",
    "    # First: perform the computation for the FC layer: Dot product inputs * W\n",
    "    # then: add bias to get the results: outputs of the FC layer\n",
    "    fc_xW_plus_bias_outputs = tf.matmul(inputs, W)+b\n",
    "    \n",
    "    # return the results: outputs\n",
    "    return(fc_xW_plus_bias_outputs)\n"
   ]
  },
  {
   "cell_type": "markdown",
   "metadata": {
    "colab_type": "text",
    "id": "uvxTN5Cq8Qhm"
   },
   "source": [
    "### Phase I: Build the Convolutional Neural Network"
   ]
  },
  {
   "cell_type": "markdown",
   "metadata": {
    "colab_type": "text",
    "id": "uvxTN5Cq8Qhm"
   },
   "source": [
    "### Create Placeholders for Inputs and Labels: x & y_true"
   ]
  },
  {
   "cell_type": "code",
   "execution_count": 15,
   "metadata": {},
   "outputs": [],
   "source": [
    "# PLaceholder\n",
    "\n",
    "# Create a placeholder for the pnputs data: x\n",
    "# x: a 2D array \n",
    "# x: a placeholder that can hold any number of rows/record\n",
    "# Each row is a vector (1D array) to hold data for one image\n",
    "# Each row/record/image has 784 values/elements: 1 pixel = 1 value\n",
    "\n",
    "x = tf.placeholder(tf.float32, shape=[None, 784])"
   ]
  },
  {
   "cell_type": "code",
   "execution_count": 16,
   "metadata": {},
   "outputs": [],
   "source": [
    "# PLaceholder\n",
    "# Create a placeholder for the labels of the inputs data: y_true\n",
    "# y_true: a 2D array\n",
    "#y_true: can hold any number of row/records\n",
    "# Each row is the label of one image, i.e; one digit\n",
    "# Each row/record: The label is stored in the one-hot format\n",
    "# One hot format: [1 0 0 0 0 0 0 0 0 0] -> 0; [0 0 0 0 0 0 0 1 0] -> 8\n",
    "\n",
    "y_true = tf.placeholder(tf.float32, [None, 10])"
   ]
  },
  {
   "cell_type": "markdown",
   "metadata": {
    "colab_type": "text",
    "id": "uvxTN5Cq8Qhm"
   },
   "source": [
    "### Reshape the input placeholder x"
   ]
  },
  {
   "cell_type": "code",
   "execution_count": 17,
   "metadata": {},
   "outputs": [],
   "source": [
    "# Prepare feeding inputs into the 1st conv layer\n",
    "# Reshape the pnput x: A placeholder\n",
    "# From 1D array (vector) -> Original input shape: 4D-input: [batch, H, W, depth channels]\n",
    "# Depth = color channels: grey scale = 1\n",
    "# Reshaped inputs: x_image: [ 1, 28, 28, 1]\n",
    "\n",
    "x_image = tf.reshape(x, [-1, 28, 28, 1])"
   ]
  },
  {
   "cell_type": "markdown",
   "metadata": {
    "colab_type": "text",
    "id": "uvxTN5Cq8Qhm"
   },
   "source": [
    "### Create 1st Convolutional Layer, ReLU Layer, and Perform Computation: x*W + b"
   ]
  },
  {
   "cell_type": "markdown",
   "metadata": {
    "colab_type": "text",
    "id": "uvxTN5Cq8Qhm"
   },
   "source": [
    "### Reshape the input placeholder x"
   ]
  },
  {
   "cell_type": "code",
   "execution_count": 18,
   "metadata": {},
   "outputs": [],
   "source": [
    "# Create the 1st convilution layer\n",
    "# Inputs: x_image: Reshaped inputs with shape [1, 28, 28, 1]\n",
    "# filter_shape: [5, 5, 1, 32]\n",
    "# filter: 5x5\n",
    "# input channels: 1\n",
    "# output channels: 32\n",
    "\n",
    "# Create the 1st convolution layer\n",
    "# then lean/extract the features, get teh results (outputs): Dot product of inputs * weights\n",
    "# Return the outputs of the layer\n",
    "conv_layer_1_outputs = create_convolution_layer_and_compute_dot_product(x_image, filter_shape=[5, 5, 1, 32])\n",
    "\n",
    "# Create the ReLU layer for the first convolution layer\n",
    "# Accept the outputs from the 1st conv layer as the inputs\n",
    "# Perform the computation at the layer: add inputs + bias\n",
    "# Return teh outputs of the layer\n",
    "conv_relu_layer_1_outputs = create_relu_and_compute_dotproduct_plus_b(conv_layer_1_outputs, filter_shape=[5, 5, 1, 32])"
   ]
  },
  {
   "cell_type": "markdown",
   "metadata": {
    "colab_type": "text",
    "id": "uvxTN5Cq8Qhm"
   },
   "source": [
    "### Create 1st pooling layer and reduce spatial size"
   ]
  },
  {
   "cell_type": "code",
   "execution_count": 19,
   "metadata": {},
   "outputs": [],
   "source": [
    "# Create the 1st pooling layer\n",
    "# then reduce the spatial size of the input data\n",
    "# Return: output of the layer\n",
    "\n",
    "pooling_layer_1_outputs = create_maxpool2by2_and_reduce_spatial_size(conv_relu_layer_1_outputs)"
   ]
  },
  {
   "cell_type": "markdown",
   "metadata": {
    "colab_type": "text",
    "id": "uvxTN5Cq8Qhm"
   },
   "source": [
    "### Create 2nd Convolutional Layer, ReLU Layer, and Perform Computation: x*W + b"
   ]
  },
  {
   "cell_type": "code",
   "execution_count": 20,
   "metadata": {},
   "outputs": [],
   "source": [
    "# Create the 1st convilution layer\n",
    "# Inputs: x_image: Reshaped inputs with shape [1, 28, 28, 1]\n",
    "# filter_shape: [5, 5, 1, 32]\n",
    "# filter: 5x5\n",
    "# input channels: 1\n",
    "# output channels: 32\n",
    "\n",
    "# Create the 2nd convolution layer\n",
    "# then lean/extract the features, get teh results (outputs): Dot product of inputs * weights\n",
    "# Return the outputs of the layer\n",
    "conv_layer_2_outputs = create_convolution_layer_and_compute_dot_product(pooling_layer_1_outputs, filter_shape=[5, 5, 32, 64])\n",
    "\n",
    "# Create the ReLU layer for the first convolution layer\n",
    "# Accept the outputs from the 1st conv layer as the inputs\n",
    "# Perform the computation at the layer: add inputs + bias\n",
    "# Return teh outputs of the layer\n",
    "conv_relu_layer_2_outputs = create_relu_and_compute_dotproduct_plus_b(conv_layer_2_outputs, filter_shape=[5, 5, 32, 64])"
   ]
  },
  {
   "cell_type": "markdown",
   "metadata": {
    "colab_type": "text",
    "id": "uvxTN5Cq8Qhm"
   },
   "source": [
    "### Create 2nd pooling layer and reduce spatial size"
   ]
  },
  {
   "cell_type": "code",
   "execution_count": 21,
   "metadata": {},
   "outputs": [],
   "source": [
    "# Create the 1st pooling layer\n",
    "# then reduce the spatial size of the input data\n",
    "# Return: output of the layer\n",
    "\n",
    "pooling_layer_2_outputs = create_maxpool2by2_and_reduce_spatial_size(conv_relu_layer_2_outputs)"
   ]
  },
  {
   "cell_type": "markdown",
   "metadata": {
    "colab_type": "text",
    "id": "uvxTN5Cq8Qhm"
   },
   "source": [
    "### Reshape/Flatten Data Making it ready to be fed into 1st FC layer"
   ]
  },
  {
   "cell_type": "code",
   "execution_count": 22,
   "metadata": {},
   "outputs": [],
   "source": [
    "# Reshape and flatten the output of the 2nd pooling layer\n",
    "# Prepare to feed the output data into the 1st fully connected layer\n",
    "\n",
    "pooling_layer_2_outputs_flat = tf.reshape(pooling_layer_2_outputs, [-1, 7*7*64])"
   ]
  },
  {
   "cell_type": "markdown",
   "metadata": {
    "colab_type": "text",
    "id": "uvxTN5Cq8Qhm"
   },
   "source": [
    "### Create 1st FC Layer, ReLU Layer, and output data to dropout layer"
   ]
  },
  {
   "cell_type": "code",
   "execution_count": 23,
   "metadata": {},
   "outputs": [],
   "source": [
    "# First create the FC (Fully Connected) Layer\n",
    "# Feed the output (already flattened) of the 2nd pooling layer as the inputs into this layer\n",
    "# then perform the computation: dot product + bias: (x * W) + b\n",
    "\n",
    "# Parameters:\n",
    "# pooling_layer_2_outputs_flat\n",
    "# output_size: 1024 out channels\n",
    "\n",
    "# Return: outputs of the computation: (x * W) + b\n",
    "\n",
    "fc_layer_1_outputs = create_fully_connected_layer_and_compute_dotproduct_plus_bias (pooling_layer_2_outputs_flat, output_size=1024)\n",
    "\n",
    "# Create the ReLU layer of the 1st FC layer\n",
    "# VIP Notes: The activation function of this layer is also ReLU\n",
    "\n",
    "# Return: Outputs of the layer\n",
    "fc_relu_layer_1_outputs = tf.nn.relu(fc_layer_1_outputs)"
   ]
  },
  {
   "cell_type": "markdown",
   "metadata": {
    "colab_type": "text",
    "id": "uvxTN5Cq8Qhm"
   },
   "source": [
    "### Create Dropout Layer and Dropout a Fraction of outputs randomly"
   ]
  },
  {
   "cell_type": "code",
   "execution_count": 24,
   "metadata": {},
   "outputs": [
    {
     "name": "stdout",
     "output_type": "stream",
     "text": [
      "WARNING:tensorflow:From <ipython-input-24-a2f4b8dd1767>:11: calling dropout (from tensorflow.python.ops.nn_ops) with keep_prob is deprecated and will be removed in a future version.\n",
      "Instructions for updating:\n",
      "Please use `rate` instead of `keep_prob`. Rate should be set to `rate = 1 - keep_prob`.\n"
     ]
    }
   ],
   "source": [
    "# Declare a placeholder to hold the alue of probability (percentage %) to keep:\n",
    "# i.e; the percentage % of total output channels that will be kept\n",
    "# e.g.: keep_prob = hold_prob = 50% --> Keep 50% --> Dropout 50%\n",
    "# Which nodes/channels to keep or dropout: Selected randomly\n",
    "\n",
    "hold_prob = tf.placeholder(tf.float32)\n",
    "\n",
    "# Dropout:\n",
    "# Set the outputs to 0 (zero) so that will be ignored in the next layer\n",
    "\n",
    "fc_dropout_outputs = tf.nn.dropout(fc_relu_layer_1_outputs, keep_prob=hold_prob)"
   ]
  },
  {
   "cell_type": "markdown",
   "metadata": {
    "colab_type": "text",
    "id": "uvxTN5Cq8Qhm"
   },
   "source": [
    "### Create Fianl FC Layer, Compute (x.W + b), and produce final outputs"
   ]
  },
  {
   "cell_type": "code",
   "execution_count": 25,
   "metadata": {},
   "outputs": [],
   "source": [
    "# Create the final FC layer\n",
    "# then compute: x*W + b\n",
    "# Parameters:\n",
    "# fc_dropout_outputs: Outputs from the dropout layer\n",
    "\n",
    "# Return y_pred: final predicted outputs, i.e., final classification outputs\n",
    "y_pred = create_fully_connected_layer_and_compute_dotproduct_plus_bias(fc_dropout_outputs, output_size=10)"
   ]
  },
  {
   "cell_type": "markdown",
   "metadata": {
    "colab_type": "text",
    "id": "uvxTN5Cq8Qhm"
   },
   "source": [
    "### Define loss function and calculate softmax cross entropy loss"
   ]
  },
  {
   "cell_type": "code",
   "execution_count": 26,
   "metadata": {},
   "outputs": [
    {
     "name": "stdout",
     "output_type": "stream",
     "text": [
      "WARNING:tensorflow:From <ipython-input-26-8cb9eaebf63e>:4: softmax_cross_entropy_with_logits (from tensorflow.python.ops.nn_ops) is deprecated and will be removed in a future version.\n",
      "Instructions for updating:\n",
      "\n",
      "Future major versions of TensorFlow will allow gradients to flow\n",
      "into the labels input on backprop by default.\n",
      "\n",
      "See `tf.nn.softmax_cross_entropy_with_logits_v2`.\n",
      "\n"
     ]
    }
   ],
   "source": [
    "# Define loss function: cross-entropy with logits, i.e., with the final outputs\n",
    "# Calculate the softmax cross-entropy loss\n",
    "\n",
    "softmax_cross_entropy_loss = tf.nn.softmax_cross_entropy_with_logits(labels=y_true, logits=y_pred)\n",
    "\n",
    "# Compute the mean of losses\n",
    "cross_entropy_mean = tf.reduce_mean(softmax_cross_entropy_loss)"
   ]
  },
  {
   "cell_type": "markdown",
   "metadata": {
    "colab_type": "text",
    "id": "uvxTN5Cq8Qhm"
   },
   "source": [
    "### Create an optimizer to optimize CNN Model and set learning rate"
   ]
  },
  {
   "cell_type": "code",
   "execution_count": 27,
   "metadata": {},
   "outputs": [],
   "source": [
    "# Get an ADAM optimizer\n",
    "optimizer = tf.train.AdamOptimizer(learning_rate=0.001)\n"
   ]
  },
  {
   "cell_type": "markdown",
   "metadata": {
    "colab_type": "text",
    "id": "uvxTN5Cq8Qhm"
   },
   "source": [
    "### Create a Trainer to Training CNN Model"
   ]
  },
  {
   "cell_type": "code",
   "execution_count": 28,
   "metadata": {},
   "outputs": [],
   "source": [
    "# Create a CNN model trainer that can train the model\n",
    "# And optimize the model by minimizing the softmax cross_entropy loss\n",
    "\n",
    "cnn_trainer = optimizer.minimize(cross_entropy_mean)"
   ]
  },
  {
   "cell_type": "markdown",
   "metadata": {
    "colab_type": "text",
    "id": "uvxTN5Cq8Qhm"
   },
   "source": [
    "### Train and Test CNN Deep Learning Model on MNIST Dataset"
   ]
  },
  {
   "cell_type": "markdown",
   "metadata": {
    "colab_type": "text",
    "id": "uvxTN5Cq8Qhm"
   },
   "source": [
    "### Create a variable initializer to Initialize all variables"
   ]
  },
  {
   "cell_type": "code",
   "execution_count": 29,
   "metadata": {},
   "outputs": [],
   "source": [
    "# Get a variable initializer\n",
    "\n",
    "vars_initializer = tf.global_variables_initializer()"
   ]
  },
  {
   "cell_type": "markdown",
   "metadata": {
    "colab_type": "text",
    "id": "uvxTN5Cq8Qhm"
   },
   "source": [
    "### Set the steps"
   ]
  },
  {
   "cell_type": "code",
   "execution_count": 30,
   "metadata": {},
   "outputs": [],
   "source": [
    "# x: mnist.train: 50000 images\n",
    "# Each time of training (run the whole process) = 1 step\n",
    "# Each time of training: use one batch of inputs\n",
    "\n",
    "# Steps = 5000: Fininsh the training after running 5000 times\n",
    "\n",
    "steps = 5000"
   ]
  },
  {
   "cell_type": "markdown",
   "metadata": {
    "colab_type": "text",
    "id": "uvxTN5Cq8Qhm"
   },
   "source": [
    "### Run tf.session() to Train and Test Deep Learning CNN Model"
   ]
  },
  {
   "cell_type": "code",
   "execution_count": 31,
   "metadata": {},
   "outputs": [
    {
     "name": "stdout",
     "output_type": "stream",
     "text": [
      "ON STEP: 0\n",
      "ACCURACY: \n",
      "0.1737\n",
      "\n",
      "\n",
      "ON STEP: 100\n",
      "ACCURACY: \n",
      "0.9475\n",
      "\n",
      "\n",
      "ON STEP: 200\n",
      "ACCURACY: \n",
      "0.9648\n",
      "\n",
      "\n",
      "ON STEP: 300\n",
      "ACCURACY: \n",
      "0.9721\n",
      "\n",
      "\n",
      "ON STEP: 400\n",
      "ACCURACY: \n",
      "0.9771\n",
      "\n",
      "\n",
      "ON STEP: 500\n",
      "ACCURACY: \n",
      "0.9767\n",
      "\n",
      "\n",
      "ON STEP: 600\n",
      "ACCURACY: \n",
      "0.9788\n",
      "\n",
      "\n",
      "ON STEP: 700\n",
      "ACCURACY: \n",
      "0.9791\n",
      "\n",
      "\n",
      "ON STEP: 800\n",
      "ACCURACY: \n",
      "0.9799\n",
      "\n",
      "\n",
      "ON STEP: 900\n",
      "ACCURACY: \n",
      "0.9765\n",
      "\n",
      "\n",
      "ON STEP: 1000\n",
      "ACCURACY: \n",
      "0.9844\n",
      "\n",
      "\n",
      "ON STEP: 1100\n",
      "ACCURACY: \n",
      "0.9838\n",
      "\n",
      "\n",
      "ON STEP: 1200\n",
      "ACCURACY: \n",
      "0.986\n",
      "\n",
      "\n",
      "ON STEP: 1300\n",
      "ACCURACY: \n",
      "0.9885\n",
      "\n",
      "\n",
      "ON STEP: 1400\n",
      "ACCURACY: \n",
      "0.9857\n",
      "\n",
      "\n",
      "ON STEP: 1500\n",
      "ACCURACY: \n",
      "0.987\n",
      "\n",
      "\n",
      "ON STEP: 1600\n",
      "ACCURACY: \n",
      "0.9859\n",
      "\n",
      "\n",
      "ON STEP: 1700\n",
      "ACCURACY: \n",
      "0.9889\n",
      "\n",
      "\n",
      "ON STEP: 1800\n",
      "ACCURACY: \n",
      "0.9885\n",
      "\n",
      "\n",
      "ON STEP: 1900\n",
      "ACCURACY: \n",
      "0.9848\n",
      "\n",
      "\n",
      "ON STEP: 2000\n",
      "ACCURACY: \n",
      "0.9865\n",
      "\n",
      "\n",
      "ON STEP: 2100\n",
      "ACCURACY: \n",
      "0.987\n",
      "\n",
      "\n",
      "ON STEP: 2200\n",
      "ACCURACY: \n",
      "0.9878\n",
      "\n",
      "\n",
      "ON STEP: 2300\n",
      "ACCURACY: \n",
      "0.987\n",
      "\n",
      "\n",
      "ON STEP: 2400\n",
      "ACCURACY: \n",
      "0.9898\n",
      "\n",
      "\n",
      "ON STEP: 2500\n",
      "ACCURACY: \n",
      "0.9885\n",
      "\n",
      "\n",
      "ON STEP: 2600\n",
      "ACCURACY: \n",
      "0.9892\n",
      "\n",
      "\n",
      "ON STEP: 2700\n",
      "ACCURACY: \n",
      "0.9882\n",
      "\n",
      "\n",
      "ON STEP: 2800\n",
      "ACCURACY: \n",
      "0.9897\n",
      "\n",
      "\n",
      "ON STEP: 2900\n",
      "ACCURACY: \n",
      "0.9904\n",
      "\n",
      "\n",
      "ON STEP: 3000\n",
      "ACCURACY: \n",
      "0.988\n",
      "\n",
      "\n",
      "ON STEP: 3100\n",
      "ACCURACY: \n",
      "0.9898\n",
      "\n",
      "\n",
      "ON STEP: 3200\n",
      "ACCURACY: \n",
      "0.9895\n",
      "\n",
      "\n",
      "ON STEP: 3300\n",
      "ACCURACY: \n",
      "0.9911\n",
      "\n",
      "\n",
      "ON STEP: 3400\n",
      "ACCURACY: \n",
      "0.9894\n",
      "\n",
      "\n",
      "ON STEP: 3500\n",
      "ACCURACY: \n",
      "0.9897\n",
      "\n",
      "\n",
      "ON STEP: 3600\n",
      "ACCURACY: \n",
      "0.992\n",
      "\n",
      "\n",
      "ON STEP: 3700\n",
      "ACCURACY: \n",
      "0.9886\n",
      "\n",
      "\n",
      "ON STEP: 3800\n",
      "ACCURACY: \n",
      "0.9902\n",
      "\n",
      "\n",
      "ON STEP: 3900\n",
      "ACCURACY: \n",
      "0.9898\n",
      "\n",
      "\n",
      "ON STEP: 4000\n",
      "ACCURACY: \n",
      "0.9905\n",
      "\n",
      "\n",
      "ON STEP: 4100\n",
      "ACCURACY: \n",
      "0.9895\n",
      "\n",
      "\n",
      "ON STEP: 4200\n",
      "ACCURACY: \n",
      "0.9889\n",
      "\n",
      "\n",
      "ON STEP: 4300\n",
      "ACCURACY: \n",
      "0.9908\n",
      "\n",
      "\n",
      "ON STEP: 4400\n",
      "ACCURACY: \n",
      "0.9887\n",
      "\n",
      "\n",
      "ON STEP: 4500\n",
      "ACCURACY: \n",
      "0.9891\n",
      "\n",
      "\n",
      "ON STEP: 4600\n",
      "ACCURACY: \n",
      "0.9914\n",
      "\n",
      "\n",
      "ON STEP: 4700\n",
      "ACCURACY: \n",
      "0.9899\n",
      "\n",
      "\n",
      "ON STEP: 4800\n",
      "ACCURACY: \n",
      "0.9904\n",
      "\n",
      "\n",
      "ON STEP: 4900\n",
      "ACCURACY: \n",
      "0.9916\n",
      "\n",
      "\n"
     ]
    }
   ],
   "source": [
    "with tf.Session() as sess:\n",
    "    # First, run vars_initializer to initialize\n",
    "    sess.run(vars_initializer)\n",
    "    \n",
    "    for i in range(steps):\n",
    "        # Each batch: 50 images\n",
    "        batch_x, batch_y = mnist.train.next_batch(50)\n",
    "        \n",
    "        # Train the model\n",
    "        # Dropout keep_prob (% to keep): 0.5 --> 50% will be dropped out\n",
    "        sess.run(cnn_trainer, feed_dict={x: batch_x, y_true: batch_y, hold_prob: 0.5})\n",
    "        \n",
    "        # Test the model: at each 100th step\n",
    "        # Run this block of code for each 100 times of training, each time run a batch \n",
    "        if i % 100 == 0:\n",
    "            print('ON STEP: {}'.format(i))\n",
    "            print('ACCURACY: ')\n",
    "            \n",
    "            # Compare to find matches of y_pred and y_true\n",
    "            matches = tf.equal(tf.argmax(y_pred, 1), tf.argmax(y_true, 1))\n",
    "            \n",
    "            # Cast the matches from integers to tf.float32\n",
    "            # Calculate the accuracy using the mean of matches\n",
    "            acc = tf.reduce_mean(tf.cast(matches, tf.float32))\n",
    "            \n",
    "            # Test the model at each 100th step\n",
    "            # Using test dataset\n",
    "            # Dropout: NONE because of test, not training\n",
    "            test_accuracy = sess.run (acc, feed_dict = {x: mnist.test.images, \\\n",
    "                                                        y_true: mnist.test.labels, \\\n",
    "                                                        hold_prob: 1.0})\n",
    "            print(test_accuracy)\n",
    "            print('\\n')"
   ]
  },
  {
   "cell_type": "code",
   "execution_count": null,
   "metadata": {},
   "outputs": [],
   "source": []
  }
 ],
 "metadata": {
  "colab": {
   "collapsed_sections": [],
   "name": "Assgn4_1_Venkata_11338457_ADTA5550.ipynb",
   "provenance": []
  },
  "kernelspec": {
   "display_name": "Python 3",
   "language": "python",
   "name": "python3"
  },
  "language_info": {
   "codemirror_mode": {
    "name": "ipython",
    "version": 3
   },
   "file_extension": ".py",
   "mimetype": "text/x-python",
   "name": "python",
   "nbconvert_exporter": "python",
   "pygments_lexer": "ipython3",
   "version": "3.7.6"
  }
 },
 "nbformat": 4,
 "nbformat_minor": 1
}
